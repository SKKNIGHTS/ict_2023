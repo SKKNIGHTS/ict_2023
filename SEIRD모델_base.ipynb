{
 "cells": [
  {
   "cell_type": "code",
   "execution_count": 1,
   "metadata": {},
   "outputs": [],
   "source": [
    "import numpy as np\n",
    "import pandas as pd\n",
    "from scipy.integrate import odeint\n",
    "from ipywidgets import widgets\n",
    "from IPython.display import display\n",
    "import plotly as pt\n",
    "import plotly.graph_objs as go"
   ]
  },
  {
   "cell_type": "markdown",
   "metadata": {},
   "source": [
    "## 1. 주요 변수 소개\n",
    "\n",
    "- $S$: 미감염자 (Susceptible)\n",
    "- $E$: 노출자 (Exposed)\n",
    "- $I$: 감염자 (Infected)\n",
    "- $C$: 중환자 (Critical)\n",
    "- $R$: 회복자 (Recovered)\n",
    "- $D$: 사망자 (Dead)\n",
    "- $Nn = S + E + I + R$: 사망자를 제외한 전체 인구\n",
    "- $\\mu$: 자연 사망률 (0<x<1)\n",
    "- $\\beta$: 감염률(Infection rate)\n",
    "- $\\gamma$: 회복율(Recovery rate) (0<x<1)\n",
    "- $e$: 노출 후 발병 비율 (0<x<1)\n",
    "- $t_{inc}$: 잠복기 기간 (incubation)\n",
    "- $t_{inf}$: 유증상 -> 중증 기간 (infectious)\n",
    "- $t_{fat}$: 중증 -> 사망 기간 (fatal)\n",
    "- $t_{rec}$: 중증 -> 치료 기간 (recover)\n",
    "- $p(I \\rightarrow C)$ : 유증상 -> 중증 확률\n",
    "- $p(C \\rightarrow D)$ : 유증상 -> 사망 확률"
   ]
  },
  {
   "cell_type": "code",
   "execution_count": 2,
   "metadata": {},
   "outputs": [],
   "source": [
    "class SEIRD():\n",
    "    @classmethod\n",
    "    def add_method(cls, mtd):\n",
    "        setattr(cls, mtd.__name__, mtd)\n",
    "        return mtd\n",
    "    \n",
    "    def __init__(self, mu, beta, gamma, e, t_inc, t_inf, t_fat, t_rec, p_ic, p_cd):\n",
    "        self.mu = mu # 자연 사망률\n",
    "        self.beta = beta # 감염률 (Infection rate)\n",
    "        self.gamma = gamma # 회복율 (Recovery rate)\n",
    "        self.e = e # 노출 후 발병 비율\n",
    "        self.t_inc = t_inc # 잠복기 기간 (incubation)\n",
    "        self.t_inf = t_inf # 유증상 -> 중증 기간 (infectious)\n",
    "        self.t_fat = t_fat # 중증 -> 사망 기간 (fatal)\n",
    "        self.t_rec = t_rec # 중증 -> 치료 기간 (recover)\n",
    "        self.p_ic = p_ic # 유증상 -> 중증 확률\n",
    "        self.p_cd = p_cd # 유증상 -> 사망 확률"
   ]
  },
  {
   "cell_type": "markdown",
   "metadata": {},
   "source": [
    "$$\n",
    "\\begin{aligned}\n",
    "\\frac{dS}{dt} &= - \\frac{\\beta S I}{N} - \\mu S \\\\\n",
    "\\\\\n",
    "\\frac{dE}{dt} &= \\frac{\\beta S I}{N} - \\frac{e}{t_{inc}} E - \\frac{(1 - e)}{t_{inc}} E  - \\mu E \\\\\n",
    "\\\\\n",
    "\\frac{dI}{dt} &= \\frac{e}{t_{inc}} E - \\frac{1}{t_{inf}}p(I \\rightarrow C) I - \\gamma (1 - p(I \\rightarrow C)) I - \\mu I \\\\\n",
    "\\\\\n",
    "\\frac{dC}{dt} &= \\frac{1}{t_{inf}}p(I \\rightarrow C) I - \\frac{1}{t_{death}}p(C \\rightarrow D) C - \\frac{1}{t_{rec}}(1 - p(C \\rightarrow D)) C -  \\mu C \\\\\n",
    "\\\\\n",
    "\\frac{dR}{dt} &= \\frac{(1 - e)}{t_{inc}} E + \\gamma (1 - p(I \\rightarrow C)) I + \\frac{1}{t_{rec}}(1 - p(C \\rightarrow D)) C - \\mu R \\\\\n",
    "\\\\\n",
    "\\frac{dD}{dt} &= \\frac{1}{t_{death}}p(C \\rightarrow D) C - \\mu D  \\\\\n",
    "\\end{aligned}\n",
    "$$"
   ]
  },
  {
   "cell_type": "markdown",
   "metadata": {},
   "source": [
    "## 2. dS/dt\n",
    "\n",
    "`dSdt`는 시간에 따른 감염되지 않은 사람 (S)의 수의 변화율을 의미한다.\n",
    "\n",
    "$\n",
    "\\begin{aligned}\n",
    "\\frac{dS}{dt} &= - \\frac{\\beta S I}{N} - \\mu S \\\\\n",
    "\\end{aligned}\n",
    "$\n",
    "\n",
    "<br>\n",
    "\n",
    "$\\frac{\\beta S I}{N}$ : I와 S 사이의 접촉에 의해 E로 빠져나가는 인구의 변화량\n",
    "\n",
    "$\\mu S$ : 감염되지 않은 사람 (S) 에서 자연적으로 발생하는 총 인구의 변화량"
   ]
  },
  {
   "cell_type": "code",
   "execution_count": null,
   "metadata": {},
   "outputs": [],
   "source": [
    "# dSdt = - (self.beta * S * I) / Nn - self.mu * S"
   ]
  },
  {
   "cell_type": "markdown",
   "metadata": {},
   "source": [
    "## 3. dE/dt\n",
    "\n",
    "`dEdt`는 시간에 따라 전염병에 직접적으로 노출된 사람 (E)의 수의 변화율을 의미한다.\n",
    "\n",
    "$\n",
    "\\begin{aligned}\n",
    "\\frac{dE}{dt} &= \\frac{\\beta S I}{N} - \\frac{e}{t_{inc}} E - \\frac{(1 - e)}{t_{inc}} E - \\mu E \\\\\n",
    "\\end{aligned}\n",
    "$\n",
    "\n",
    "<br>\n",
    "\n",
    "$\\frac{\\beta S I}{N}$ : I와 S 사이의 접촉에 의해 E로 빠져나가는 인구의 변화량\n",
    "\n",
    "$\\frac{e}{t_{inc}} E$ : E에서 I로 이월되는 전염병에 감염된 인원.\n",
    "\n",
    "$\\frac{(1 - e)}{t_{inc}} E $ : 감염되지 않은 인원. 그대로 R 인원으로 이월한다.\n",
    "\n",
    "$\\mu E $ : 노출된 사람 (E) 에서 자연적으로 발생하는 총 인구의 변화량"
   ]
  },
  {
   "cell_type": "code",
   "execution_count": null,
   "metadata": {},
   "outputs": [],
   "source": [
    "# dEdt = (self.beta * S * I) / Nn - (self.e / self.t_inc) * E - ((1 - self.e) / self.t_inc) * E - self.mu * E"
   ]
  },
  {
   "cell_type": "markdown",
   "metadata": {},
   "source": [
    "## 4. dI/dt\n",
    "\n",
    "`dI/dt`는 시간에 따라 감염자 수 (I)의 변화율을 의미한다.\n",
    "\n",
    "$\n",
    "\\begin{aligned}\n",
    "\\frac{dI}{dt} &= \\frac{e}{t_{inc}} E - \\frac{1}{t_{inf}}p(I \\rightarrow C) I - \\gamma (1 - p(I \\rightarrow C)) I - \\mu I \\\\\n",
    "\\end{aligned}\n",
    "$\n",
    "\n",
    "<br>\n",
    "\n",
    "$\\frac{e}{t_{inc}} E$ : E에서 I로 이월되는 전염병에 감염된 인원.\n",
    "\n",
    "$\\frac{1}{t_{inf}}p(I \\rightarrow C) I$ : I에서 C로 이월되는 중증 환자\n",
    "\n",
    "$\\gamma (1 - p(I \\rightarrow C)) I$ : I에서 R로 이월되는 회복한 환자\n",
    "\n",
    "$\\mu I$ :감염된 인구 (I) 에서 자연적으로 발생하는 총 인구의 변화량"
   ]
  },
  {
   "cell_type": "code",
   "execution_count": null,
   "metadata": {},
   "outputs": [],
   "source": [
    "# dIdt = (self.e / self.t_inc) * E - (1 / self.t_inf) * p_ic * I - self.gamma * (1 - p_ic) * I - self.mu * I"
   ]
  },
  {
   "cell_type": "markdown",
   "metadata": {},
   "source": [
    "## 5. dC/dt\n",
    "\n",
    "`dC/dt`는 시간에 따라 중증 환자의 수 (R)의 변화율을 의미한다.\n",
    "\n",
    "$\n",
    "\\begin{aligned}\n",
    "\\frac{dC}{dt} &= \\frac{1}{t_{inf}}p(I \\rightarrow C) I - \\frac{1}{t_{death}}p(C \\rightarrow D) C - \\frac{1}{t_{rec}}(1 - p(C \\rightarrow D)) C -  \\mu C \\\\\n",
    "\\end{aligned}\n",
    "$\n",
    "\n",
    "<br>\n",
    "\n",
    "$\\frac{1}{t_{inf}}p(I \\rightarrow C) I$ :I에서 C로 이월되는 중증 환자\n",
    "\n",
    "$\\frac{1}{t_{death}}p(C \\rightarrow D) C$ : C에서 D로 이월되는 사망한 환자 \n",
    "\n",
    "$\\frac{1}{t_{rec}}(1 - p(C \\rightarrow D)) C$ : C에서 R로 이월되는 중증에서 회복한 환자\n",
    "\n",
    "$\\mu R$ :회복하는 인원 (R) 에서 자연적으로 발생하는 총 인구의 변화량"
   ]
  },
  {
   "cell_type": "code",
   "execution_count": null,
   "metadata": {},
   "outputs": [],
   "source": [
    "# dCdt = (1 / self.t_inf) * p_ic * I - (1 / self.t_fat) * p_cd * C - (1 / self.t_rec) * (1 - p_cd) * C - self.mu * C"
   ]
  },
  {
   "cell_type": "markdown",
   "metadata": {},
   "source": [
    "## 6. dR/dt\n",
    "\n",
    "`dR/dt`는 시간에 따라 완치자 수 (R)의 변화율을 의미한다.\n",
    "\n",
    "$\n",
    "\\begin{aligned}\n",
    "\\frac{dR}{dt} &= \\frac{(1 - e)}{t_{inc}} E + \\gamma (1 - p(I \\rightarrow C)) I + \\frac{1}{t_{rec}}(1 - p(C \\rightarrow D)) C - \\mu R \\\\\n",
    "\\end{aligned}\n",
    "$\n",
    "\n",
    "<br>\n",
    "\n",
    "$\\frac{(1 - e)}{t_{inc}} E$ :감염되지 않은 인원. 그대로 R 인원으로 이월한다\n",
    "\n",
    "$\\gamma (1 - p(I \\rightarrow C)) I$ : I에서 R로 이월되는 회복한 환자 \n",
    "\n",
    "$\\frac{1}{t_{rec}}(1 - p(C \\rightarrow D)) C$ : C에서 R로 이월되는 중증에서 회복한 환자\n",
    "\n",
    "$\\mu R$ :회복하는 인원 (R) 에서 자연적으로 발생하는 총 인구의 변화량"
   ]
  },
  {
   "cell_type": "code",
   "execution_count": null,
   "metadata": {},
   "outputs": [],
   "source": [
    "# dRdt = ((1 - self.e) / self.t_inc) * E + self.gamma * (1 - p_ic) * I + (1 / self.t_rec) * (1 - p_cd) * C  - self.mu * R"
   ]
  },
  {
   "cell_type": "markdown",
   "metadata": {},
   "source": [
    "## 5. dD/dt\n",
    "\n",
    "`dD/dt`는 시간에 따라 사망자 수 (D)의 변화율을 의미한다.\n",
    "\n",
    "$\n",
    "\\begin{aligned}\n",
    "\\frac{dD}{dt} &= \\frac{1}{t_{death}}p(C \\rightarrow D) C - \\mu D  \\\\\n",
    "\\end{aligned}\n",
    "$\n",
    "\n",
    "<br>\n",
    "\n",
    "$\\frac{1}{t_{death}}p(C \\rightarrow D) C$ : C에서 D로 이월되는 사망한 환자\n",
    "\n",
    "$\\mu D$ :사망하는 인원 (D) 에서 자연적으로 발생하는 총 인구의 변화량"
   ]
  },
  {
   "cell_type": "code",
   "execution_count": null,
   "metadata": {},
   "outputs": [],
   "source": [
    "# dDdt = (1 / self.t_fat) * p_cd * C - self.mu * D"
   ]
  },
  {
   "cell_type": "code",
   "execution_count": 3,
   "metadata": {},
   "outputs": [],
   "source": [
    "@SEIRD.add_method\n",
    "def deriv(self, y_t, t):\n",
    "    S, E, I, C, R, D = y_t\n",
    "    \n",
    "    # Nn: 사망자를 제외한 전체 인구 수\n",
    "    Nn = S + E + I + R\n",
    "    \n",
    "    # dSdt: 미감염자(S)의 변화율\n",
    "    dSdt = - (self.beta * S * I) / Nn - self.mu * S\n",
    "    \n",
    "    # dEdt: 노출자(E)의 변화율\n",
    "    dEdt = (self.beta * S * I) / Nn - (self.e / self.t_inc) * E - ((1 - self.e) / self.t_inc) * E - self.mu * E\n",
    "    \n",
    "    # dIdt: 감염자(I)의 변화율\n",
    "    dIdt = (self.e / self.t_inc) * E - (1 / self.t_inf) * p_ic * I - self.gamma * (1 - p_ic) * I - self.mu * I\n",
    "    \n",
    "    # dCdt : 중증환자(C)의 변화율\n",
    "    dCdt = (1 / self.t_inf) * p_ic * I - (1 / self.t_fat) * p_cd * C - (1 / self.t_rec) * (1 - p_cd) * C - self.mu * C\n",
    "    \n",
    "    # dRdt: 회복자(R)의 변화율\n",
    "    dRdt = ((1 - self.e) / self.t_inc) * E + self.gamma * (1 - p_ic) * I + (1 / self.t_rec) * (1 - p_cd) * C  - self.mu * R\n",
    "    \n",
    "    # dDdt: 사망자(D)의 변화율\n",
    "    dDdt = (1 / self.t_fat) * p_cd * C - self.mu * D\n",
    "        \n",
    "    return [dSdt, dEdt, dIdt, dCdt, dRdt, dDdt]"
   ]
  },
  {
   "cell_type": "code",
   "execution_count": 4,
   "metadata": {},
   "outputs": [],
   "source": [
    "@SEIRD.add_method\n",
    "def get_data_from_csv(country):\n",
    "\n",
    "    inf_csv = 'https://raw.githubusercontent.com/CSSEGISandData/COVID-19/master/csse_covid_19_data/csse_covid_19_time_series/time_series_covid19_confirmed_global.csv'\n",
    "    inf = pd.read_csv(inf_csv)\n",
    "    death_csv = 'https://raw.githubusercontent.com/CSSEGISandData/COVID-19/master/csse_covid_19_data/csse_covid_19_time_series/time_series_covid19_deaths_global.csv'\n",
    "    death = pd.read_csv(death_csv)\n",
    "\n",
    "    inf = inf.replace(np.nan, '', regex=True)\n",
    "    inf = inf.groupby('Country/Region').sum().reset_index()\n",
    "    inf = inf.transpose()\n",
    "    header = inf.iloc[0]\n",
    "    inf = inf[1:]\n",
    "    inf.columns = header\n",
    "    \n",
    "    death = death.replace(np.nan, '', regex=True)\n",
    "    death = death.groupby('Country/Region').sum().reset_index()\n",
    "    death = death.transpose()[1:]\n",
    "    death.columns = header\n",
    "    \n",
    "    return [inf.loc[:, country ], death.loc[:, country ]]"
   ]
  },
  {
   "cell_type": "code",
   "execution_count": 7,
   "metadata": {},
   "outputs": [],
   "source": [
    "@SEIRD.add_method\n",
    "def plotly_graph(N, mu, beta, gamma, e, t_inc, t_inf, t_fat, t_rec, p_ic, p_cd,\n",
    "                   model, y_initial, t_domain, confirmed, deaths):\n",
    "    \n",
    "    Solve = odeint(model.deriv, y_initial, t_domain)\n",
    "    \n",
    "    S, E, I, C, R, D = [Solve[:,i] for i in range(6)]\n",
    "\n",
    "    beta_slider  = widgets.FloatSlider(\n",
    "        value = 1.0,\n",
    "        min = 0.0,\n",
    "        max = 2.0,\n",
    "        step = 0.01,\n",
    "        description = '𝛽',\n",
    "        continuous_update = False)\n",
    "    \n",
    "    layout = go.Layout(title =  dict(text ='Cases',font =dict(family='Sherif',size=18,color = 'white')),\n",
    "        yaxis=dict(title=\"number of cases\", zeroline=False,showgrid = True,gridcolor='gray'),\n",
    "        xaxis=dict(title=\"DateTime\",zeroline = False,showgrid = True, tickangle = 60,gridcolor='gray'),\n",
    "        paper_bgcolor='#57565e',plot_bgcolor='rgba(0,0,0,0)',font = dict(color = 'lightyellow'))\n",
    "    \n",
    "    fig = go.FigureWidget(data=[\n",
    "        go.Scatter(name=\"Susciptible\", x=t_domain,y=S,line=dict(color=\"#ff2a17\"),mode=\"lines\"),\n",
    "        go.Scatter(name=\"Exposed\", x=t_domain,y=E,line=dict(color=\"blue\"),mode=\"lines\"),\n",
    "        go.Scatter(name='Infected', x=t_domain,y=I,line=dict(color=\"black\"), mode=\"lines\"),\n",
    "        go.Scatter(name='Critical', x=t_domain,y=C,line=dict(color=\"purple\"), mode=\"lines\"),\n",
    "        go.Scatter(name='Recovered', x=t_domain, y=R,line=dict(color=\"green\"), mode=\"lines\"),\n",
    "        go.Scatter(name='Deaths', x=t_domain,y=D,line=dict(color=\"yellow\"), mode=\"lines\"),\n",
    "        go.Scatter(name='Deaths_data', x=np.arange(len(deaths.values)),\n",
    "            y=deaths.values,line=dict(color=\"darkgray\"), mode=\"lines\"),\n",
    "        go.Scatter(name='Infected_data', x=np.arange(len(confirmed.values)),\n",
    "            y=confirmed.values,line=dict(color=\"blueviolet\"), mode=\"lines\")],layout=layout)\n",
    "\n",
    "    \n",
    "    fig.layout.update(barmode='group')\n",
    "    \n",
    "    def response(change):\n",
    "        with fig.batch_update():\n",
    "            \n",
    "            model.beta = beta_slider.value\n",
    "            \n",
    "            model.gamma = 1/14\n",
    "            model.mu = 0.01 / 365\n",
    "            model.e = 0.5\n",
    "            model.t_inc = 5.\n",
    "            model.t_inf = 10.\n",
    "            model.t_fat = 7.\n",
    "            model.t_rec = 12.\n",
    "            model.p_ic = 0.1\n",
    "            model.p_cd = 0.2\n",
    "            fig.data[0].y=odeint(model.deriv, y_initial, t_domain)[:,0] #Sus\n",
    "            fig.data[1].y=odeint(model.deriv, y_initial, t_domain)[:,1] #Sus\n",
    "            fig.data[2].y=odeint(model.deriv, y_initial, t_domain)[:,2] #Inf\n",
    "            fig.data[3].y=odeint(model.deriv, y_initial, t_domain)[:,3] #Rec\n",
    "            fig.data[4].y=odeint(model.deriv, y_initial, t_domain)[:,4] #Deaths\n",
    "            fig.data[5].y=odeint(model.deriv, y_initial, t_domain)[:,5]\n",
    "            \n",
    "    beta_slider.observe(response, names=\"value\")\n",
    "\n",
    "    #stack the sliders horizontally\n",
    "    container = widgets.HBox([beta_slider])\n",
    "    display(container,fig)\n",
    "    response(\"any kinda shit for triggering the event\") "
   ]
  },
  {
   "cell_type": "code",
   "execution_count": 8,
   "metadata": {},
   "outputs": [
    {
     "data": {
      "application/vnd.jupyter.widget-view+json": {
       "model_id": "32d63af915cf40acbbf5dc8f5d2dd856",
       "version_major": 2,
       "version_minor": 0
      },
      "text/plain": [
       "HBox(children=(FloatSlider(value=1.0, continuous_update=False, description='𝛽', max=2.0, step=0.01),))"
      ]
     },
     "metadata": {},
     "output_type": "display_data"
    },
    {
     "data": {
      "application/vnd.jupyter.widget-view+json": {
       "model_id": "805d38e54da44090a18fd9c86a7d859e",
       "version_major": 2,
       "version_minor": 0
      },
      "text/plain": [
       "FigureWidget({\n",
       "    'data': [{'line': {'color': '#ff2a17'},\n",
       "              'mode': 'lines',\n",
       "              'name'…"
      ]
     },
     "metadata": {},
     "output_type": "display_data"
    }
   ],
   "source": [
    "if __name__ == \"__main__\":\n",
    "    conf_cases, deaths = get_data_from_csv(country = \"Korea, South\")\n",
    "\n",
    "    N = 51780579  # Total number of population(uninfected)\n",
    "    gamma = 1/14\n",
    "    beta = 1.0\n",
    "    mu = 0.01/365\n",
    "    e = 0.5\n",
    "    t_inc = 5.\n",
    "    t_inf = 10.\n",
    "    t_fat = 7.\n",
    "    t_rec = 12.\n",
    "    p_ic = 0.1\n",
    "    p_cd = 0.2\n",
    "    y_initial = [N, 0, 1, 0, 0, 0]\n",
    "    time = 1150\n",
    "    t_domain  = np.linspace(0, time, time)\n",
    "    \n",
    "    model = SEIRD(mu, beta, gamma, e, t_inc, t_inf, t_fat, t_rec, p_ic, p_cd)\n",
    "    plotly_graph(N, mu, beta, gamma, e, t_inc, t_inf, t_fat, t_rec, p_ic, p_cd,\n",
    "                   model,y_initial,t_domain,conf_cases, deaths)"
   ]
  },
  {
   "cell_type": "code",
   "execution_count": null,
   "metadata": {},
   "outputs": [],
   "source": []
  }
 ],
 "metadata": {
  "kernelspec": {
   "display_name": "Python 3 (ipykernel)",
   "language": "python",
   "name": "python3"
  },
  "language_info": {
   "codemirror_mode": {
    "name": "ipython",
    "version": 3
   },
   "file_extension": ".py",
   "mimetype": "text/x-python",
   "name": "python",
   "nbconvert_exporter": "python",
   "pygments_lexer": "ipython3",
   "version": "3.9.12"
  }
 },
 "nbformat": 4,
 "nbformat_minor": 4
}
